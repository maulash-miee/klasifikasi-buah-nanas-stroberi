{
 "cells": [
  {
   "cell_type": "code",
   "execution_count": null,
   "metadata": {
    "execution": {
     "iopub.execute_input": "2025-05-30T09:11:16.174067Z",
     "iopub.status.busy": "2025-05-30T09:11:16.173746Z",
     "iopub.status.idle": "2025-05-30T09:11:16.180251Z",
     "shell.execute_reply": "2025-05-30T09:11:16.179099Z",
     "shell.execute_reply.started": "2025-05-30T09:11:16.174044Z"
    },
    "trusted": true
   },
   "outputs": [],
   "source": [
    "import os\n",
    "import numpy as np\n",
    "import matplotlib.pyplot as plt\n",
    "import seaborn as sns\n",
    "from tensorflow.keras.preprocessing.image import ImageDataGenerator\n",
    "from tensorflow.keras.applications import MobileNetV2\n",
    "from tensorflow.keras.layers import Dense, GlobalAveragePooling2D\n",
    "from tensorflow.keras.models import Model\n",
    "from tensorflow.keras.optimizers import Adam\n",
    "from sklearn.metrics import classification_report, confusion_matrix"
   ]
  },
  {
   "cell_type": "code",
   "execution_count": null,
   "metadata": {
    "execution": {
     "iopub.execute_input": "2025-05-30T09:11:16.182262Z",
     "iopub.status.busy": "2025-05-30T09:11:16.181961Z",
     "iopub.status.idle": "2025-05-30T09:11:16.205044Z",
     "shell.execute_reply": "2025-05-30T09:11:16.203962Z",
     "shell.execute_reply.started": "2025-05-30T09:11:16.182241Z"
    },
    "trusted": true
   },
   "outputs": [],
   "source": [
    "data_dir = \"/kaggle/input/klasifikasi-buah-nanas-stroberi/Dataset\""
   ]
  },
  {
   "cell_type": "code",
   "execution_count": null,
   "metadata": {
    "execution": {
     "iopub.execute_input": "2025-05-30T09:11:16.206667Z",
     "iopub.status.busy": "2025-05-30T09:11:16.206376Z",
     "iopub.status.idle": "2025-05-30T09:11:16.223789Z",
     "shell.execute_reply": "2025-05-30T09:11:16.222936Z",
     "shell.execute_reply.started": "2025-05-30T09:11:16.206646Z"
    },
    "trusted": true
   },
   "outputs": [],
   "source": [
    "datagen = ImageDataGenerator(\n",
    "    rescale=1./255,            # Normalisasi piksel gambar ke [0,1]\n",
    "    validation_split=0.2,      # 20% data untuk validasi\n",
    "    rotation_range=30,         # Rotasi acak sampai 30 derajat\n",
    "    zoom_range=0.2,            # Zoom acak sampai 20%\n",
    "    horizontal_flip=True       # Flip horizontal acak\n",
    ")"
   ]
  },
  {
   "cell_type": "code",
   "execution_count": null,
   "metadata": {
    "execution": {
     "iopub.execute_input": "2025-05-30T09:11:16.226440Z",
     "iopub.status.busy": "2025-05-30T09:11:16.226109Z",
     "iopub.status.idle": "2025-05-30T09:11:16.348206Z",
     "shell.execute_reply": "2025-05-30T09:11:16.346933Z",
     "shell.execute_reply.started": "2025-05-30T09:11:16.226415Z"
    },
    "trusted": true
   },
   "outputs": [
    {
     "name": "stdout",
     "output_type": "stream",
     "text": [
      "Found 161 images belonging to 2 classes.\n",
      "Found 40 images belonging to 2 classes.\n"
     ]
    }
   ],
   "source": [
    "train_gen = datagen.flow_from_directory(\n",
    "    data_dir,\n",
    "    target_size=(224, 224),    # Ukuran input MobileNetV2\n",
    "    batch_size=32,\n",
    "    class_mode='categorical',  # Karena 2 kelas, pakai categorical_crossentropy\n",
    "    subset='training',\n",
    "    shuffle=True\n",
    ")\n",
    "\n",
    "val_gen = datagen.flow_from_directory(\n",
    "    data_dir,\n",
    "    target_size=(224, 224),\n",
    "    batch_size=32,\n",
    "    class_mode='categorical',\n",
    "    subset='validation',\n",
    "    shuffle=False\n",
    ")"
   ]
  },
  {
   "cell_type": "code",
   "execution_count": null,
   "metadata": {
    "execution": {
     "iopub.execute_input": "2025-05-30T09:11:16.349630Z",
     "iopub.status.busy": "2025-05-30T09:11:16.349311Z",
     "iopub.status.idle": "2025-05-30T09:11:17.171557Z",
     "shell.execute_reply": "2025-05-30T09:11:17.170554Z",
     "shell.execute_reply.started": "2025-05-30T09:11:16.349608Z"
    },
    "trusted": true
   },
   "outputs": [],
   "source": [
    "base_model = MobileNetV2(weights='imagenet', include_top=False, input_shape=(224,224,3))\n",
    "base_model.trainable = False  # Freeze model dasar supaya bobotnya tidak berubah\n",
    "\n",
    "x = base_model.output\n",
    "x = GlobalAveragePooling2D()(x)  # Pooling global untuk flatten fitur\n",
    "x = Dense(128, activation='relu')(x)  # Fully connected layer\n",
    "predictions = Dense(2, activation='softmax')(x)  # Output layer 2 kelas\n",
    "\n",
    "model = Model(inputs=base_model.input, outputs=predictions)"
   ]
  },
  {
   "cell_type": "code",
   "execution_count": null,
   "metadata": {
    "execution": {
     "iopub.execute_input": "2025-05-30T09:11:17.174081Z",
     "iopub.status.busy": "2025-05-30T09:11:17.173355Z",
     "iopub.status.idle": "2025-05-30T09:11:17.185157Z",
     "shell.execute_reply": "2025-05-30T09:11:17.184155Z",
     "shell.execute_reply.started": "2025-05-30T09:11:17.174025Z"
    },
    "trusted": true
   },
   "outputs": [],
   "source": [
    "model.compile(optimizer=Adam(), loss='categorical_crossentropy', metrics=['accuracy'])"
   ]
  },
  {
   "cell_type": "code",
   "execution_count": null,
   "metadata": {
    "execution": {
     "iopub.execute_input": "2025-05-30T09:11:17.186651Z",
     "iopub.status.busy": "2025-05-30T09:11:17.186293Z",
     "iopub.status.idle": "2025-05-30T09:12:42.500038Z",
     "shell.execute_reply": "2025-05-30T09:12:42.499107Z",
     "shell.execute_reply.started": "2025-05-30T09:11:17.186612Z"
    },
    "trusted": true
   },
   "outputs": [
    {
     "name": "stderr",
     "output_type": "stream",
     "text": [
      "/usr/local/lib/python3.11/dist-packages/keras/src/trainers/data_adapters/py_dataset_adapter.py:121: UserWarning: Your `PyDataset` class should call `super().__init__(**kwargs)` in its constructor. `**kwargs` can include `workers`, `use_multiprocessing`, `max_queue_size`. Do not pass these arguments to `fit()`, as they will be ignored.\n",
      "  self._warn_if_super_not_called()\n"
     ]
    },
    {
     "name": "stdout",
     "output_type": "stream",
     "text": [
      "Epoch 1/10\n",
      "\u001b[1m6/6\u001b[0m \u001b[32m━━━━━━━━━━━━━━━━━━━━\u001b[0m\u001b[37m\u001b[0m \u001b[1m19s\u001b[0m 2s/step - accuracy: 0.6246 - loss: 1.1018 - val_accuracy: 0.9250 - val_loss: 0.2166\n",
      "Epoch 2/10\n",
      "\u001b[1m6/6\u001b[0m \u001b[32m━━━━━━━━━━━━━━━━━━━━\u001b[0m\u001b[37m\u001b[0m \u001b[1m8s\u001b[0m 1s/step - accuracy: 0.9501 - loss: 0.1239 - val_accuracy: 0.9750 - val_loss: 0.0356\n",
      "Epoch 3/10\n",
      "\u001b[1m6/6\u001b[0m \u001b[32m━━━━━━━━━━━━━━━━━━━━\u001b[0m\u001b[37m\u001b[0m \u001b[1m8s\u001b[0m 1s/step - accuracy: 0.9781 - loss: 0.0730 - val_accuracy: 1.0000 - val_loss: 0.0057\n",
      "Epoch 4/10\n",
      "\u001b[1m6/6\u001b[0m \u001b[32m━━━━━━━━━━━━━━━━━━━━\u001b[0m\u001b[37m\u001b[0m \u001b[1m7s\u001b[0m 1s/step - accuracy: 1.0000 - loss: 0.0059 - val_accuracy: 1.0000 - val_loss: 0.0097\n",
      "Epoch 5/10\n",
      "\u001b[1m6/6\u001b[0m \u001b[32m━━━━━━━━━━━━━━━━━━━━\u001b[0m\u001b[37m\u001b[0m \u001b[1m7s\u001b[0m 1s/step - accuracy: 1.0000 - loss: 0.0102 - val_accuracy: 1.0000 - val_loss: 0.0020\n",
      "Epoch 6/10\n",
      "\u001b[1m6/6\u001b[0m \u001b[32m━━━━━━━━━━━━━━━━━━━━\u001b[0m\u001b[37m\u001b[0m \u001b[1m8s\u001b[0m 1s/step - accuracy: 1.0000 - loss: 0.0024 - val_accuracy: 1.0000 - val_loss: 0.0030\n",
      "Epoch 7/10\n",
      "\u001b[1m6/6\u001b[0m \u001b[32m━━━━━━━━━━━━━━━━━━━━\u001b[0m\u001b[37m\u001b[0m \u001b[1m7s\u001b[0m 1s/step - accuracy: 1.0000 - loss: 0.0083 - val_accuracy: 1.0000 - val_loss: 0.0020\n",
      "Epoch 8/10\n",
      "\u001b[1m6/6\u001b[0m \u001b[32m━━━━━━━━━━━━━━━━━━━━\u001b[0m\u001b[37m\u001b[0m \u001b[1m7s\u001b[0m 1s/step - accuracy: 1.0000 - loss: 5.7630e-04 - val_accuracy: 1.0000 - val_loss: 0.0020\n",
      "Epoch 9/10\n",
      "\u001b[1m6/6\u001b[0m \u001b[32m━━━━━━━━━━━━━━━━━━━━\u001b[0m\u001b[37m\u001b[0m \u001b[1m7s\u001b[0m 1s/step - accuracy: 1.0000 - loss: 8.1500e-04 - val_accuracy: 1.0000 - val_loss: 8.7922e-04\n",
      "Epoch 10/10\n",
      "\u001b[1m6/6\u001b[0m \u001b[32m━━━━━━━━━━━━━━━━━━━━\u001b[0m\u001b[37m\u001b[0m \u001b[1m7s\u001b[0m 1s/step - accuracy: 1.0000 - loss: 0.0018 - val_accuracy: 1.0000 - val_loss: 0.0022\n"
     ]
    }
   ],
   "source": [
    "history = model.fit(\n",
    "    train_gen,\n",
    "    validation_data=val_gen,\n",
    "    epochs=10\n",
    ")"
   ]
  },
  {
   "cell_type": "code",
   "execution_count": null,
   "metadata": {
    "execution": {
     "iopub.execute_input": "2025-05-30T09:12:42.502236Z",
     "iopub.status.busy": "2025-05-30T09:12:42.501926Z",
     "iopub.status.idle": "2025-05-30T09:12:42.880228Z",
     "shell.execute_reply": "2025-05-30T09:12:42.879354Z",
     "shell.execute_reply.started": "2025-05-30T09:12:42.502213Z"
    },
    "trusted": true
   },
   "outputs": [
    {
     "data": {
      "image/png": "[encoded data removed]",
      "text/plain": [
       "<Figure size 1200x400 with 2 Axes>"
      ]
     },
     "metadata": {},
     "output_type": "display_data"
    }
   ],
   "source": [
    "plt.figure(figsize=(12,4))\n",
    "plt.subplot(1,2,1)\n",
    "plt.plot(history.history['accuracy'], label='Train Acc')\n",
    "plt.plot(history.history['val_accuracy'], label='Val Acc')\n",
    "plt.legend()\n",
    "plt.title('Accuracy')\n",
    "\n",
    "plt.subplot(1,2,2)\n",
    "plt.plot(history.history['loss'], label='Train Loss')\n",
    "plt.plot(history.history['val_loss'], label='Val Loss')\n",
    "plt.legend()\n",
    "plt.title('Loss')\n",
    "plt.show()"
   ]
  },
  {
   "cell_type": "code",
   "execution_count": null,
   "metadata": {
    "execution": {
     "iopub.execute_input": "2025-05-30T09:12:42.882444Z",
     "iopub.status.busy": "2025-05-30T09:12:42.882148Z",
     "iopub.status.idle": "2025-05-30T09:12:48.800600Z",
     "shell.execute_reply": "2025-05-30T09:12:48.799707Z",
     "shell.execute_reply.started": "2025-05-30T09:12:42.882423Z"
    },
    "trusted": true
   },
   "outputs": [
    {
     "name": "stdout",
     "output_type": "stream",
     "text": [
      "\u001b[1m2/2\u001b[0m \u001b[32m━━━━━━━━━━━━━━━━━━━━\u001b[0m\u001b[37m\u001b[0m \u001b[1m5s\u001b[0m 2s/step\n"
     ]
    },
    {
     "data": {
      "image/png": "[encoded data removed]",
      "text/plain": [
       "<Figure size 600x500 with 2 Axes>"
      ]
     },
     "metadata": {},
     "output_type": "display_data"
    }
   ],
   "source": [
    "val_gen.reset()  # Reset generator validasi\n",
    "pred = model.predict(val_gen)\n",
    "pred_classes = np.argmax(pred, axis=1)\n",
    "true_classes = val_gen.classes\n",
    "labels = list(val_gen.class_indices.keys())\n",
    "\n",
    "cm = confusion_matrix(true_classes, pred_classes)\n",
    "plt.figure(figsize=(6,5))\n",
    "sns.heatmap(cm, annot=True, fmt='d', cmap='Blues', xticklabels=labels, yticklabels=labels)\n",
    "plt.xlabel('Predicted')\n",
    "plt.ylabel('Actual')\n",
    "plt.title('Confusion Matrix')\n",
    "plt.show()"
   ]
  },
  {
   "cell_type": "code",
   "execution_count": null,
   "metadata": {
    "execution": {
     "iopub.execute_input": "2025-05-30T09:12:48.801763Z",
     "iopub.status.busy": "2025-05-30T09:12:48.801485Z",
     "iopub.status.idle": "2025-05-30T09:12:48.816090Z",
     "shell.execute_reply": "2025-05-30T09:12:48.815097Z",
     "shell.execute_reply.started": "2025-05-30T09:12:48.801742Z"
    },
    "trusted": true
   },
   "outputs": [
    {
     "name": "stdout",
     "output_type": "stream",
     "text": [
      "              precision    recall  f1-score   support\n",
      "\n",
      "       nanas       1.00      1.00      1.00        20\n",
      "   strawberi       1.00      1.00      1.00        20\n",
      "\n",
      "    accuracy                           1.00        40\n",
      "   macro avg       1.00      1.00      1.00        40\n",
      "weighted avg       1.00      1.00      1.00        40\n",
      "\n"
     ]
    }
   ],
   "source": [
    "print(classification_report(true_classes, pred_classes, target_names=labels))"
   ]
  },
  {
   "cell_type": "code",
   "execution_count": null,
   "metadata": {
    "execution": {
     "iopub.execute_input": "2025-05-30T09:14:05.902763Z",
     "iopub.status.busy": "2025-05-30T09:14:05.902431Z",
     "iopub.status.idle": "2025-05-30T09:14:05.911029Z",
     "shell.execute_reply": "2025-05-30T09:14:05.909854Z",
     "shell.execute_reply.started": "2025-05-30T09:14:05.902740Z"
    },
    "trusted": true
   },
   "outputs": [],
   "source": [
    "base_model.trainable = True\n",
    "# Tentukan layer berapa ke atas yang bisa di-train ulang\n",
    "for layer in base_model.layers[:100]:\n",
    "    layer.trainable = False\n"
   ]
  },
  {
   "cell_type": "markdown",
   "metadata": {},
   "source": [
    "Klasifikasi Gambar: Nanas vs Stroberi\n",
    "Deskripsi\n",
    "Proyek ini melakukan klasifikasi dua jenis buah: nanas dan stroberi menggunakan transfer learning dengan MobileNetV2.\n",
    "\n",
    "Dataset\n",
    "Dataset terdiri dari lebih dari 200 foto, terbagi menjadi:\n",
    "\n",
    "(Dataset/nanas): >100 foto gambar nanas dengan variasi sudut\n",
    "(Dataset/strawberi): >100 foto gambar stroberi dengan variasi sudut\n",
    "Cara Menjalankan\n",
    "Upload dataset ke Kaggle dan hubungkan ke notebook.\n",
    "Jalankan file notebook klasifikasi_nanas_stroberi.ipynb.\n",
    "Pastikan menggunakan GPU/TPU untuk percepatan training.\n",
    "Model akan melakukan training selama 10 epoch, kemudian menampilkan hasil evaluasi.\n",
    "Model\n",
    "Arsitektur: MobileNetV2 (pretrained ImageNet)\n",
    "Teknik: Transfer Learning dengan data augmentation\n",
    "Output: Akurasi, Confusion Matrix, dan laporan klasifikasi\n",
    "Struktur Folder\n",
    "Dataset \n",
    "    - nanas \n",
    "        -img_1.jpeg \n",
    "        -img_2.jpeg \n",
    "        -img_3.jpeg \n",
    "    - stroberi \n",
    "        -img_1.jpeg \n",
    "        -img_2.jpeg \n",
    "        -img_3.jpeg"
   ]
  },
  {
   "cell_type": "markdown",
   "metadata": {},
   "source": [
    "# Klasifikasi Gambar: Nanas vs Stroberi\n",
    "\n",
    "# Deskripsi\n",
    "Proyek ini melakukan klasifikasi dua jenis buah: nanas dan stroberi menggunakan transfer learning dengan MobileNetV2.\n",
    "\n",
    "# Dataset\n",
    "Dataset terdiri dari lebih dari 200 foto, terbagi menjadi:\n",
    "- (`Dataset/nanas`): >100 foto gambar nanas dengan variasi sudut\n",
    "- (`Dataset/strawberi`): >100 foto gambar stroberi dengan variasi sudut\n",
    "\n",
    "# Cara Menjalankan\n",
    "1. Upload dataset ke Kaggle dan hubungkan ke notebook.\n",
    "2. Jalankan file notebook `klasifikasi_nanas_stroberi.ipynb`.\n",
    "3. Pastikan menggunakan GPU/TPU untuk percepatan training.\n",
    "4. Model akan melakukan training selama 10 epoch, kemudian menampilkan hasil evaluasi.\n",
    "\n",
    "## Model\n",
    "- Arsitektur: MobileNetV2 (pretrained ImageNet)\n",
    "- Teknik: Transfer Learning dengan data augmentation\n",
    "- Output: Akurasi, Confusion Matrix, dan laporan klasifikasi\n",
    "\n",
    "## Struktur Folder\n",
    "Dataset\n",
    "    - nanas\n",
    "        -img_1.jpeg\n",
    "        -img_2.jpeg\n",
    "        -img_3.jpeg\n",
    "    - stroberi\n",
    "        -img_1.jpeg\n",
    "        -img_2.jpeg\n",
    "        -img_3.jpeg"
   ]
  }
 ],
 "metadata": {
  "kaggle": {
   "accelerator": "none",
   "dataSources": [
    {
     "datasetId": 7551619,
     "sourceId": 12004316,
     "sourceType": "datasetVersion"
    }
   ],
   "dockerImageVersionId": 31040,
   "isGpuEnabled": false,
   "isInternetEnabled": true,
   "language": "python",
   "sourceType": "notebook"
  },
  "kernelspec": {
   "display_name": "Python 3",
   "language": "python",
   "name": "python3"
  },
  "language_info": {
   "codemirror_mode": {
    "name": "ipython",
    "version": 3
   },
   "file_extension": ".py",
   "mimetype": "text/x-python",
   "name": "python",
   "nbconvert_exporter": "python",
   "pygments_lexer": "ipython3",
   "version": "3.11.11"
  }
 },
 "nbformat": 4,
 "nbformat_minor": 4
}
